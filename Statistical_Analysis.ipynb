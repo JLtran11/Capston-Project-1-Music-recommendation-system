{
 "cells": [
  {
   "cell_type": "code",
   "execution_count": 1,
   "metadata": {},
   "outputs": [],
   "source": [
    "import pandas as pd\n",
    "import numpy as np\n",
    "import matplotlib.pyplot as plt\n",
    "%matplotlib inline\n",
    "plt.rcParams[\"patch.force_edgecolor\"] = True\n",
    "import seaborn as sns"
   ]
  },
  {
   "cell_type": "code",
   "execution_count": 2,
   "metadata": {},
   "outputs": [],
   "source": [
    "df = pd.read_csv('nprs_final.csv')"
   ]
  },
  {
   "cell_type": "code",
   "execution_count": 3,
   "metadata": {},
   "outputs": [
    {
     "data": {
      "text/html": [
       "<div>\n",
       "<style scoped>\n",
       "    .dataframe tbody tr th:only-of-type {\n",
       "        vertical-align: middle;\n",
       "    }\n",
       "\n",
       "    .dataframe tbody tr th {\n",
       "        vertical-align: top;\n",
       "    }\n",
       "\n",
       "    .dataframe thead th {\n",
       "        text-align: right;\n",
       "    }\n",
       "</style>\n",
       "<table border=\"1\" class=\"dataframe\">\n",
       "  <thead>\n",
       "    <tr style=\"text-align: right;\">\n",
       "      <th></th>\n",
       "      <th>Unnamed: 0</th>\n",
       "      <th>user_id</th>\n",
       "      <th>track_id</th>\n",
       "      <th>created_at</th>\n",
       "      <th>instrumentalness</th>\n",
       "      <th>liveness</th>\n",
       "      <th>speechiness</th>\n",
       "      <th>danceability</th>\n",
       "      <th>valence</th>\n",
       "      <th>loudness</th>\n",
       "      <th>tempo</th>\n",
       "      <th>acousticness</th>\n",
       "      <th>energy</th>\n",
       "      <th>mode</th>\n",
       "      <th>key</th>\n",
       "      <th>artist_id</th>\n",
       "      <th>tag</th>\n",
       "      <th>uid_code</th>\n",
       "      <th>tid_code</th>\n",
       "      <th>aid_code</th>\n",
       "    </tr>\n",
       "  </thead>\n",
       "  <tbody>\n",
       "    <tr>\n",
       "      <th>0</th>\n",
       "      <td>0</td>\n",
       "      <td>81496937</td>\n",
       "      <td>cd52b3e5b51da29e5893dba82a418a4b</td>\n",
       "      <td>2014-01-01 05:54:21</td>\n",
       "      <td>0.00479</td>\n",
       "      <td>0.18</td>\n",
       "      <td>0.0294</td>\n",
       "      <td>0.634</td>\n",
       "      <td>0.342</td>\n",
       "      <td>-8.345</td>\n",
       "      <td>125.044</td>\n",
       "      <td>0.00035</td>\n",
       "      <td>0.697</td>\n",
       "      <td>1.0</td>\n",
       "      <td>6.0</td>\n",
       "      <td>b2980c722a1ace7a30303718ce5491d8</td>\n",
       "      <td>['postpunk', 'nowplaying', 'deathrock', 'goth']</td>\n",
       "      <td>6457</td>\n",
       "      <td>65356</td>\n",
       "      <td>11306</td>\n",
       "    </tr>\n",
       "    <tr>\n",
       "      <th>1</th>\n",
       "      <td>1</td>\n",
       "      <td>81496937</td>\n",
       "      <td>cd52b3e5b51da29e5893dba82a418a4b</td>\n",
       "      <td>2014-02-19 11:21:51</td>\n",
       "      <td>0.00479</td>\n",
       "      <td>0.18</td>\n",
       "      <td>0.0294</td>\n",
       "      <td>0.634</td>\n",
       "      <td>0.342</td>\n",
       "      <td>-8.345</td>\n",
       "      <td>125.044</td>\n",
       "      <td>0.00035</td>\n",
       "      <td>0.697</td>\n",
       "      <td>1.0</td>\n",
       "      <td>6.0</td>\n",
       "      <td>b2980c722a1ace7a30303718ce5491d8</td>\n",
       "      <td>['postpunk', 'nowplaying', 'deathrock', 'goth']</td>\n",
       "      <td>6457</td>\n",
       "      <td>65356</td>\n",
       "      <td>11306</td>\n",
       "    </tr>\n",
       "    <tr>\n",
       "      <th>2</th>\n",
       "      <td>2</td>\n",
       "      <td>81496937</td>\n",
       "      <td>cd52b3e5b51da29e5893dba82a418a4b</td>\n",
       "      <td>2014-03-02 15:28:20</td>\n",
       "      <td>0.00479</td>\n",
       "      <td>0.18</td>\n",
       "      <td>0.0294</td>\n",
       "      <td>0.634</td>\n",
       "      <td>0.342</td>\n",
       "      <td>-8.345</td>\n",
       "      <td>125.044</td>\n",
       "      <td>0.00035</td>\n",
       "      <td>0.697</td>\n",
       "      <td>1.0</td>\n",
       "      <td>6.0</td>\n",
       "      <td>b2980c722a1ace7a30303718ce5491d8</td>\n",
       "      <td>['postpunk', 'nowplaying', 'deathrock', 'goth']</td>\n",
       "      <td>6457</td>\n",
       "      <td>65356</td>\n",
       "      <td>11306</td>\n",
       "    </tr>\n",
       "  </tbody>\n",
       "</table>\n",
       "</div>"
      ],
      "text/plain": [
       "   Unnamed: 0   user_id                          track_id  \\\n",
       "0           0  81496937  cd52b3e5b51da29e5893dba82a418a4b   \n",
       "1           1  81496937  cd52b3e5b51da29e5893dba82a418a4b   \n",
       "2           2  81496937  cd52b3e5b51da29e5893dba82a418a4b   \n",
       "\n",
       "            created_at  instrumentalness  liveness  speechiness  danceability  \\\n",
       "0  2014-01-01 05:54:21           0.00479      0.18       0.0294         0.634   \n",
       "1  2014-02-19 11:21:51           0.00479      0.18       0.0294         0.634   \n",
       "2  2014-03-02 15:28:20           0.00479      0.18       0.0294         0.634   \n",
       "\n",
       "   valence  loudness    tempo  acousticness  energy  mode  key  \\\n",
       "0    0.342    -8.345  125.044       0.00035   0.697   1.0  6.0   \n",
       "1    0.342    -8.345  125.044       0.00035   0.697   1.0  6.0   \n",
       "2    0.342    -8.345  125.044       0.00035   0.697   1.0  6.0   \n",
       "\n",
       "                          artist_id  \\\n",
       "0  b2980c722a1ace7a30303718ce5491d8   \n",
       "1  b2980c722a1ace7a30303718ce5491d8   \n",
       "2  b2980c722a1ace7a30303718ce5491d8   \n",
       "\n",
       "                                               tag  uid_code  tid_code  \\\n",
       "0  ['postpunk', 'nowplaying', 'deathrock', 'goth']      6457     65356   \n",
       "1  ['postpunk', 'nowplaying', 'deathrock', 'goth']      6457     65356   \n",
       "2  ['postpunk', 'nowplaying', 'deathrock', 'goth']      6457     65356   \n",
       "\n",
       "   aid_code  \n",
       "0     11306  \n",
       "1     11306  \n",
       "2     11306  "
      ]
     },
     "execution_count": 3,
     "metadata": {},
     "output_type": "execute_result"
    }
   ],
   "source": [
    "df.head(3)"
   ]
  },
  {
   "cell_type": "markdown",
   "metadata": {},
   "source": [
    "Being that the plan is to user matrix factorizition the only relevant information from the dataframe we need are the uid_code, tid_code, as the factorized components W and H which store the latent features are used to make recommendations.  These are the user id and track id codes from users and songs in the dataset.  We will plot distributions of user listen counts and track listen counts."
   ]
  },
  {
   "cell_type": "code",
   "execution_count": 4,
   "metadata": {},
   "outputs": [],
   "source": [
    "# Create a column of ones to sum over groupby operation\n",
    "df['count'] = 1"
   ]
  },
  {
   "cell_type": "markdown",
   "metadata": {},
   "source": [
    "### User/Listen Count Distributions"
   ]
  },
  {
   "cell_type": "code",
   "execution_count": 70,
   "metadata": {},
   "outputs": [],
   "source": [
    "#Create user/listen count dataframe\n",
    "users = df.groupby('uid_code')['count'].sum().to_frame()"
   ]
  },
  {
   "cell_type": "code",
   "execution_count": 71,
   "metadata": {},
   "outputs": [
    {
     "data": {
      "text/html": [
       "<div>\n",
       "<style scoped>\n",
       "    .dataframe tbody tr th:only-of-type {\n",
       "        vertical-align: middle;\n",
       "    }\n",
       "\n",
       "    .dataframe tbody tr th {\n",
       "        vertical-align: top;\n",
       "    }\n",
       "\n",
       "    .dataframe thead th {\n",
       "        text-align: right;\n",
       "    }\n",
       "</style>\n",
       "<table border=\"1\" class=\"dataframe\">\n",
       "  <thead>\n",
       "    <tr style=\"text-align: right;\">\n",
       "      <th></th>\n",
       "      <th>count</th>\n",
       "    </tr>\n",
       "    <tr>\n",
       "      <th>uid_code</th>\n",
       "      <th></th>\n",
       "    </tr>\n",
       "  </thead>\n",
       "  <tbody>\n",
       "    <tr>\n",
       "      <th>0</th>\n",
       "      <td>53</td>\n",
       "    </tr>\n",
       "    <tr>\n",
       "      <th>1</th>\n",
       "      <td>24</td>\n",
       "    </tr>\n",
       "    <tr>\n",
       "      <th>2</th>\n",
       "      <td>16</td>\n",
       "    </tr>\n",
       "    <tr>\n",
       "      <th>3</th>\n",
       "      <td>17</td>\n",
       "    </tr>\n",
       "    <tr>\n",
       "      <th>4</th>\n",
       "      <td>17</td>\n",
       "    </tr>\n",
       "  </tbody>\n",
       "</table>\n",
       "</div>"
      ],
      "text/plain": [
       "          count\n",
       "uid_code       \n",
       "0            53\n",
       "1            24\n",
       "2            16\n",
       "3            17\n",
       "4            17"
      ]
     },
     "execution_count": 71,
     "metadata": {},
     "output_type": "execute_result"
    }
   ],
   "source": [
    "users.head()"
   ]
  },
  {
   "cell_type": "code",
   "execution_count": 20,
   "metadata": {
    "scrolled": true
   },
   "outputs": [
    {
     "data": {
      "text/plain": [
       "Text(0, 0.5, 'Number of Users')"
      ]
     },
     "execution_count": 20,
     "metadata": {},
     "output_type": "execute_result"
    },
    {
     "data": {
      "image/png": "[encoded data removed]",
      "text/plain": [
       "<Figure size 576x432 with 1 Axes>"
      ]
     },
     "metadata": {
      "needs_background": "light"
     },
     "output_type": "display_data"
    }
   ],
   "source": [
    "plt.figure(figsize=(8,6))\n",
    "sns.distplot(users,kde=False)\n",
    "plt.title('User/Listen Count Distribution')\n",
    "plt.xlabel('Listen Count')\n",
    "plt.ylabel('Number of Users')"
   ]
  },
  {
   "cell_type": "code",
   "execution_count": 21,
   "metadata": {},
   "outputs": [
    {
     "data": {
      "text/plain": [
       "Text(0, 0.5, 'Number of Users')"
      ]
     },
     "execution_count": 21,
     "metadata": {},
     "output_type": "execute_result"
    },
    {
     "data": {
      "image/png": "[encoded data removed]",
      "text/plain": [
       "<Figure size 576x432 with 1 Axes>"
      ]
     },
     "metadata": {
      "needs_background": "light"
     },
     "output_type": "display_data"
    }
   ],
   "source": [
    "#apply log function to reduce skewness\n",
    "plt.figure(figsize=(8,6))\n",
    "sns.distplot(np.log(users),kde=False)\n",
    "plt.title('Log User/Listen Count Distribution')\n",
    "plt.xlabel('Listen Count')\n",
    "plt.ylabel('Number of Users')"
   ]
  },
  {
   "cell_type": "markdown",
   "metadata": {},
   "source": [
    "In addition to applying a log transform to the data to reduce skewness, we can filter the original of users that have less than 200 listens.  Lets filter users with less than 200 listens to get a better picture of the distribution"
   ]
  },
  {
   "cell_type": "code",
   "execution_count": 22,
   "metadata": {},
   "outputs": [],
   "source": [
    "#Calculate mean and standard deviation of user/listen count\n",
    "user_std = users['count'].std()\n",
    "user_mean = users['count'].mean()"
   ]
  },
  {
   "cell_type": "code",
   "execution_count": 23,
   "metadata": {},
   "outputs": [
    {
     "name": "stdout",
     "output_type": "stream",
     "text": [
      "3291.2873179806825 298.60311027332705\n"
     ]
    }
   ],
   "source": [
    "print(user_std,user_mean)"
   ]
  },
  {
   "cell_type": "markdown",
   "metadata": {},
   "source": [
    "We can see in the first plot a long tail from outliers, the few users that had really high listen counts pull the mean to 3291.  We know this not to be the case by examining the distribution with all of the data.  We can filter the users with listen counts less than 200 to get a better idea of the population activity."
   ]
  },
  {
   "cell_type": "code",
   "execution_count": 24,
   "metadata": {},
   "outputs": [],
   "source": [
    "#Filter users with less than 200 listening events\n",
    "filt_user = users[users['count'] < 200]"
   ]
  },
  {
   "cell_type": "code",
   "execution_count": 25,
   "metadata": {},
   "outputs": [],
   "source": [
    "#Calculate percentage of users with less than 200 listens\n",
    "filt_percent = len(filt_user) / len(users)"
   ]
  },
  {
   "cell_type": "code",
   "execution_count": 26,
   "metadata": {},
   "outputs": [
    {
     "name": "stdout",
     "output_type": "stream",
     "text": [
      " The percentage of users with less than 200 listen events is 0.936\n"
     ]
    }
   ],
   "source": [
    "print(f\" The percentage of users with less than 200 listen events is {round(filt_percent,3)}\")"
   ]
  },
  {
   "cell_type": "markdown",
   "metadata": {},
   "source": [
    "By filtering the data to users with less than 200 listens, we can gain a clearer picture of the data while retaining 94% of the data"
   ]
  },
  {
   "cell_type": "code",
   "execution_count": 27,
   "metadata": {},
   "outputs": [
    {
     "name": "stdout",
     "output_type": "stream",
     "text": [
      "31.553831169879043 31.91396496173983\n"
     ]
    }
   ],
   "source": [
    "#Calculate filtered data mean and std\n",
    "filt_user_std = filt_user['count'].std()\n",
    "filt_user_mean = filt_user['count'].mean()\n",
    "print(filt_user_std,filt_user_mean)"
   ]
  },
  {
   "cell_type": "code",
   "execution_count": 61,
   "metadata": {},
   "outputs": [
    {
     "data": {
      "text/plain": [
       "Text(0, 0.5, 'Number of Users')"
      ]
     },
     "execution_count": 61,
     "metadata": {},
     "output_type": "execute_result"
    },
    {
     "data": {
      "image/png": "[encoded data removed]",
      "text/plain": [
       "<Figure size 576x432 with 1 Axes>"
      ]
     },
     "metadata": {
      "needs_background": "light"
     },
     "output_type": "display_data"
    }
   ],
   "source": [
    "#Plot distribution of filtered data\n",
    "plt.figure(figsize=(8,6))\n",
    "sns.distplot(filt_user['count'],kde=False,bins=50)\n",
    "plt.title('User/Listen Count Distribution: Filtered')\n",
    "plt.xlabel('Listen Count')\n",
    "plt.ylabel('Number of Users')"
   ]
  },
  {
   "cell_type": "markdown",
   "metadata": {},
   "source": [
    "By filtering the user/listening event count to 200, we obtain a distribution that looks somewhat similar to the log distribution of the entire data.  Both give us a better idea of what the distribution looks like reducing while reducing outlier effects.  Here, the bin width represetns a range of listen counts.  For instance, the first bin represents over 5000 users with at least 10 listening events because we previously removed users with less than 10 listening events."
   ]
  },
  {
   "cell_type": "code",
   "execution_count": 67,
   "metadata": {},
   "outputs": [
    {
     "data": {
      "text/plain": [
       "Text(0.5, 0, 'Number of Plays')"
      ]
     },
     "execution_count": 67,
     "metadata": {},
     "output_type": "execute_result"
    },
    {
     "data": {
      "image/png": "[encoded data removed]",
      "text/plain": [
       "<Figure size 576x432 with 1 Axes>"
      ]
     },
     "metadata": {
      "needs_background": "light"
     },
     "output_type": "display_data"
    }
   ],
   "source": [
    "#plot cumulative distribution of filtered data\n",
    "plt.figure(figsize=(8,6))\n",
    "kwargs = {'cumulative': True}\n",
    "sns.distplot(filt_user, hist_kws=kwargs, kde_kws=kwargs,bins=50)\n",
    "plt.title('Cumulative Distribution: User/Listen Count Filtered')\n",
    "plt.ylabel('Percentage')\n",
    "plt.xlabel('Number of Plays')"
   ]
  },
  {
   "cell_type": "markdown",
   "metadata": {},
   "source": [
    "The cumulative distribution shows that about 80% of users in the filtered data set have 50 or less plays attributed to them."
   ]
  },
  {
   "cell_type": "markdown",
   "metadata": {},
   "source": [
    "### Track/Listen Count Distributions"
   ]
  },
  {
   "cell_type": "code",
   "execution_count": 77,
   "metadata": {},
   "outputs": [],
   "source": [
    "tracks = df.groupby('tid_code')['count'].sum().to_frame()"
   ]
  },
  {
   "cell_type": "code",
   "execution_count": 41,
   "metadata": {},
   "outputs": [
    {
     "data": {
      "text/plain": [
       "Text(0.5, 0, 'Listen Count')"
      ]
     },
     "execution_count": 41,
     "metadata": {},
     "output_type": "execute_result"
    },
    {
     "data": {
      "image/png": "[encoded data removed]",
      "text/plain": [
       "<Figure size 576x432 with 1 Axes>"
      ]
     },
     "metadata": {
      "needs_background": "light"
     },
     "output_type": "display_data"
    }
   ],
   "source": [
    "#plot track/listen count distribution\n",
    "plt.figure(figsize=(8,6))\n",
    "sns.distplot(tracks['count'],kde=False,bins=50,color='orange')\n",
    "plt.title('Track/Listen Count Distribution')\n",
    "plt.ylabel('Count')\n",
    "plt.xlabel('Listen Count')"
   ]
  },
  {
   "cell_type": "code",
   "execution_count": 40,
   "metadata": {},
   "outputs": [
    {
     "data": {
      "text/plain": [
       "Text(0.5, 0, 'Listen Count')"
      ]
     },
     "execution_count": 40,
     "metadata": {},
     "output_type": "execute_result"
    },
    {
     "data": {
      "image/png": "[encoded data removed]",
      "text/plain": [
       "<Figure size 576x432 with 1 Axes>"
      ]
     },
     "metadata": {
      "needs_background": "light"
     },
     "output_type": "display_data"
    }
   ],
   "source": [
    "#plot log track/listen count distribution\n",
    "plt.figure(figsize=(8,6))\n",
    "sns.distplot(np.log(tracks['count']),kde=False,bins=50,color='orange')\n",
    "plt.title('Log Track/Listen Count Distribution')\n",
    "plt.ylabel('Count')\n",
    "plt.xlabel('Listen Count')"
   ]
  },
  {
   "cell_type": "code",
   "execution_count": 33,
   "metadata": {},
   "outputs": [
    {
     "name": "stdout",
     "output_type": "stream",
     "text": [
      "77.89678275942613 233.14421643472613\n"
     ]
    }
   ],
   "source": [
    "#calculate mean and std of data\n",
    "tracks_mean = tracks['count'].mean()\n",
    "tracks_std = tracks['count'].std()\n",
    "print(tracks_mean,tracks_std)"
   ]
  },
  {
   "cell_type": "markdown",
   "metadata": {},
   "source": [
    "We know this to be highly skewed due to the tracks that have more than 275 plays.  The tracks with extremely high listen counts can be removed to get a better view of the distribution."
   ]
  },
  {
   "cell_type": "code",
   "execution_count": 54,
   "metadata": {},
   "outputs": [],
   "source": [
    "#Filter tracks with less than 275 plays\n",
    "filt_tracks = tracks[tracks['count'] <= 250]"
   ]
  },
  {
   "cell_type": "code",
   "execution_count": 55,
   "metadata": {},
   "outputs": [
    {
     "name": "stdout",
     "output_type": "stream",
     "text": [
      " The percentage of tracks with less than 275 listen events is 0.943\n"
     ]
    }
   ],
   "source": [
    "filt_percent_tracks = len(filt_tracks) / len(tracks)\n",
    "print(f\" The percentage of tracks with less than 275 listen events is {round(filt_percent_tracks,3)}\")"
   ]
  },
  {
   "cell_type": "code",
   "execution_count": 56,
   "metadata": {},
   "outputs": [
    {
     "name": "stdout",
     "output_type": "stream",
     "text": [
      "42.06647116324536 44.61936245428972\n"
     ]
    }
   ],
   "source": [
    "#calculate mean and std of filtered data\n",
    "filt_tracks_mean = filt_tracks['count'].mean()\n",
    "filt_tracks_std = filt_tracks['count'].std()\n",
    "print(filt_tracks_mean,filt_tracks_std)"
   ]
  },
  {
   "cell_type": "code",
   "execution_count": 68,
   "metadata": {},
   "outputs": [
    {
     "data": {
      "text/plain": [
       "Text(0.5, 0, 'Listen Count')"
      ]
     },
     "execution_count": 68,
     "metadata": {},
     "output_type": "execute_result"
    },
    {
     "data": {
      "image/png": "[encoded data removed]",
      "text/plain": [
       "<Figure size 576x432 with 1 Axes>"
      ]
     },
     "metadata": {
      "needs_background": "light"
     },
     "output_type": "display_data"
    }
   ],
   "source": [
    "#Plot distribution of filtered track/listen data\n",
    "plt.figure(figsize=(8,6))\n",
    "sns.distplot(filt_tracks['count'],kde=False,bins=50,color='orange')\n",
    "plt.title('Track/Listen Count Distribution Filtered')\n",
    "plt.ylabel('Number of Songs')\n",
    "plt.xlabel('Listen Count')"
   ]
  },
  {
   "cell_type": "code",
   "execution_count": 69,
   "metadata": {},
   "outputs": [
    {
     "data": {
      "text/plain": [
       "Text(0.5, 0, 'Number of Plays')"
      ]
     },
     "execution_count": 69,
     "metadata": {},
     "output_type": "execute_result"
    },
    {
     "data": {
      "image/png": "[encoded data removed]",
      "text/plain": [
       "<Figure size 576x432 with 1 Axes>"
      ]
     },
     "metadata": {
      "needs_background": "light"
     },
     "output_type": "display_data"
    }
   ],
   "source": [
    "#plot cumulative distribution of track/listen data\n",
    "plt.figure(figsize=(8,6))\n",
    "kwargs = {'cumulative': True}\n",
    "sns.distplot(filt_tracks, hist_kws=kwargs, kde_kws=kwargs,bins=50,color='orange')\n",
    "plt.title('Cumulative Distribution: Track/Listen Count Filtered')\n",
    "plt.ylabel('Percentage')\n",
    "plt.xlabel('Number of Plays')"
   ]
  },
  {
   "cell_type": "markdown",
   "metadata": {},
   "source": [
    "The above cumulative distribution of the filtered track count data shows that 80% of the songs had a listen count of 50 or less."
   ]
  },
  {
   "cell_type": "code",
   "execution_count": null,
   "metadata": {},
   "outputs": [],
   "source": []
  }
 ],
 "metadata": {
  "kernelspec": {
   "display_name": "Python 3",
   "language": "python",
   "name": "python3"
  },
  "language_info": {
   "codemirror_mode": {
    "name": "ipython",
    "version": 3
   },
   "file_extension": ".py",
   "mimetype": "text/x-python",
   "name": "python",
   "nbconvert_exporter": "python",
   "pygments_lexer": "ipython3",
   "version": "3.7.6"
  }
 },
 "nbformat": 4,
 "nbformat_minor": 4
}
